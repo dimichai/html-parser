{
 "cells": [
  {
   "cell_type": "markdown",
   "metadata": {},
   "source": [
    "# A Python Implementation of an Html Parser\n",
    "\n",
    "The following parser was developed as a requirement for applying in the MSc in Information Studies programme at the University of Amsterdam.\n",
    "\n",
    "The goal was to parse a given collection of articles and plot its Word Count Distribution.\n",
    "\n",
    "It is developed using only python packages and not 3rd-party ones.  \n",
    "The parser implements [HTMLParser](https://docs.python.org/2/library/htmlparser.html).\n",
    "[Counter](https://pypi.org/project/Counter/1.0.0/) package is used for counting words, [string](https://docs.python.org/3/library/string.html) for string manipulation & [matplotlib](https://matplotlib.org/index.html) for creating the histogram.\n",
    "\n",
    "Since we are interested in counting the words of each article, I ignored all information contained in headlines, subtitles and graphics and only counted the words in the actual article's text. Basic data preparation is performed by cleaning unneeded tags, transforming to lowercase and removing punctuation.\n",
    "\n",
    "The Document Term Matrix is implemented using a Dictionary (Python's implementation of Hash Tables) with word names as keys and lists of lists as values. A list of arrays or tuples could also be used here.  \n",
    "More details can be found in the code's comments."
   ]
  },
  {
   "cell_type": "markdown",
   "metadata": {},
   "source": [
    "## Part 1 - Implementation of Parser"
   ]
  },
  {
   "cell_type": "code",
   "execution_count": 1,
   "metadata": {},
   "outputs": [],
   "source": [
    "from html.parser import HTMLParser\n",
    "from collections import Counter\n",
    "import string\n",
    "import matplotlib.pyplot as plt"
   ]
  },
  {
   "cell_type": "code",
   "execution_count": 2,
   "metadata": {},
   "outputs": [],
   "source": [
    "class MyHTMLParser(HTMLParser):\n",
    "    dtm = None\n",
    "    currentDocId = None\n",
    "    currentTag = None\n",
    "\n",
    "    def __init__(self):\n",
    "        super().__init__()\n",
    "        # Initialize the properties.\n",
    "        self.currentDocId = 0\n",
    "        self.currentTag = \"\"\n",
    "        self.dtm = {}\n",
    "\n",
    "    def handle_starttag(self, tag, attrs):\n",
    "        # Increment the current doc id whenever we encounter a new document.\n",
    "        if tag == \"doc\":\n",
    "            self.currentDocId += 1\n",
    "        self.currentTag = tag\n",
    "\n",
    "    def handle_endtag(self, tag):\n",
    "        # Clear the current tag.\n",
    "        self.currentTag = \"\"\n",
    "\n",
    "    def handle_data(self, data):\n",
    "        # We are only interested in the words contained in the article's actual text. \n",
    "        # Other information like headings, authors, nr of words are not useful for word count.\n",
    "        if self.currentTag == 'text':\n",
    "            # Translates a string removing punctuation.\n",
    "            punctuation_translator = str.maketrans('', '', string.punctuation)\n",
    "            # Remove the punctuation and transform the words to lowercase.\n",
    "            cleaned = data.translate(punctuation_translator).lower()\n",
    "            # Count the words in the text using python's Counter.\n",
    "            wordcount = Counter(cleaned.split())\n",
    "            # For each word, append the documentId, wordcount pair into the dictionary.\n",
    "            for key in wordcount:\n",
    "                # Create the list if we encountered a new word.\n",
    "                if key not in self.dtm:\n",
    "                    self.dtm[key] = []\n",
    "                self.dtm[key].append([self.currentDocId, wordcount[key]])\n",
    "\n",
    "    def error(self, message):\n",
    "        print(\"Error while parsing file.\")"
   ]
  },
  {
   "cell_type": "code",
   "execution_count": 3,
   "metadata": {},
   "outputs": [
    {
     "name": "stdout",
     "output_type": "stream",
     "text": [
      "Appearances of the word 'the':  [[1, 94], [2, 12], [3, 67]]\n",
      "Appearances of the word 'as':  [[1, 7], [2, 1], [3, 5]]\n"
     ]
    }
   ],
   "source": [
    "parser = MyHTMLParser()\n",
    "with open('collection.txt') as f:\n",
    "    # We remove the <p> tags as they serve no purpose in our analysis.\n",
    "    # They are there just to format HTML.\n",
    "    parser.feed(f.read().replace('<p>', '').replace('</p>', ''))\n",
    "\n",
    "# Show samples of the created document term matrix\n",
    "print(\"Appearances of the word 'the': \", parser.dtm['the'])\n",
    "print(\"Appearances of the word 'as': \", parser.dtm['as'])"
   ]
  },
  {
   "cell_type": "markdown",
   "metadata": {},
   "source": [
    "## Part 2 - Word Count Distribution"
   ]
  },
  {
   "cell_type": "code",
   "execution_count": 4,
   "metadata": {},
   "outputs": [
    {
     "data": {
      "text/plain": [
       "Text(0.5,1,'Word Frequency Distribution (Count <= 10)')"
      ]
     },
     "execution_count": 4,
     "metadata": {},
     "output_type": "execute_result"
    },
    {
     "data": {
      "image/png": "[encoded data removed]",
      "text/plain": [
       "<matplotlib.figure.Figure at 0x10c78dc18>"
      ]
     },
     "metadata": {},
     "output_type": "display_data"
    }
   ],
   "source": [
    "# Count the total frequency(spanning across all documents) of each word.\n",
    "wordCounts = []\n",
    "for word in parser.dtm:\n",
    "    wordfreq = 0\n",
    "    for docnr in range(len( parser.dtm[word] )):\n",
    "        wordfreq += parser.dtm[word][docnr][1]\n",
    "    wordCounts.append(wordfreq)\n",
    "\n",
    "# Create a new Figure\n",
    "fig = plt.figure()\n",
    "axes = fig.add_axes([0.1, 0.1, 3, 2])\n",
    "axes.hist(wordCounts, 50)\n",
    "axes.set_xlabel('Word Count')\n",
    "axes.set_ylabel('Frequency')\n",
    "axes.set_title('Word Frequency Distribution')\n",
    "\n",
    "axes2 = fig.add_axes([1.5, 0.5, 1.5, 1.3])\n",
    "axes2.hist([x for x in wordCounts if x <= 10])\n",
    "axes2.set_xlabel('Word Count')\n",
    "axes2.set_ylabel('Frequency')\n",
    "axes2.set_title('Word Frequency Distribution (Count <= 10)')"
   ]
  },
  {
   "cell_type": "markdown",
   "metadata": {},
   "source": [
    "The above figure shows a right-skewed frequency distribution.  \n",
    "We can see that there are more than 1000 words that occur only once.  \n",
    "Most of the words occur 1 or 2 times in the documents.  \n",
    "Common words(or stop words) like 'the', 'of', 'a' occur multiple times more frequent than the rest.\n",
    "\n",
    "Although the sample in this case is small, we can already see Zipf's Law formulating. If we take a look at the x axis, we can see that the more frequent a word is, the more its distance increases from the second more frequent word. "
   ]
  }
 ],
 "metadata": {
  "kernelspec": {
   "display_name": "Python 3",
   "language": "python",
   "name": "python3"
  },
  "language_info": {
   "codemirror_mode": {
    "name": "ipython",
    "version": 3
   },
   "file_extension": ".py",
   "mimetype": "text/x-python",
   "name": "python",
   "nbconvert_exporter": "python",
   "pygments_lexer": "ipython3",
   "version": "3.6.4"
  }
 },
 "nbformat": 4,
 "nbformat_minor": 2
}
